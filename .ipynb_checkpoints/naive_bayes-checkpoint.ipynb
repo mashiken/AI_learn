{
 "cells": [
  {
   "cell_type": "code",
   "execution_count": null,
   "metadata": {},
   "outputs": [],
   "source": []
  },
  {
   "cell_type": "code",
   "execution_count": null,
   "metadata": {},
   "outputs": [],
   "source": [
    "# 単純ベイズ分類器\n",
    "# ベイズの定理に基づいて分類器を構築\n",
    "# ある事象に対する様々な条件のもとで起こる事象の確立を記述\n",
    "# あるクラス変数に対してある特徴が与える影響だけを考慮すればよい\n",
    "# チーターである確率を、「足が速い」「まだら模様」「四足」「尻尾有」といった特徴で判定するが、特徴間の相関をベイズ判定では考慮しない"
   ]
  },
  {
   "cell_type": "code",
   "execution_count": 3,
   "metadata": {},
   "outputs": [],
   "source": [
    "import numpy as np\n",
    "from sklearn.naive_bayes import GaussianNB\n",
    "%run utilities.ipynb"
   ]
  },
  {
   "cell_type": "code",
   "execution_count": null,
   "metadata": {},
   "outputs": [],
   "source": [
    "# data_multivar_nb.txt というファイルをデータのソースとして用いる"
   ]
  },
  {
   "cell_type": "code",
   "execution_count": 13,
   "metadata": {},
   "outputs": [],
   "source": [
    "input_file = 'data_multivar_nb.txt'"
   ]
  },
  {
   "cell_type": "code",
   "execution_count": null,
   "metadata": {},
   "outputs": [],
   "source": [
    "# data[:,:-1] data末尾の列を取り除いた物 特徴ベクトル値 　・  data[:,-1] data末尾の列 つまり ラベル値\n",
    "# それぞれx,y に代入"
   ]
  },
  {
   "cell_type": "code",
   "execution_count": 14,
   "metadata": {},
   "outputs": [
    {
     "data": {
      "text/plain": [
       "array([[ 2.18,  0.57,  0.  ],\n",
       "       [ 4.13,  5.12,  1.  ],\n",
       "       [ 9.87,  1.95,  2.  ],\n",
       "       ...,\n",
       "       [ 4.4 ,  6.75,  1.  ],\n",
       "       [ 8.71,  3.38,  2.  ],\n",
       "       [ 6.12, -1.8 ,  3.  ]])"
      ]
     },
     "execution_count": 14,
     "metadata": {},
     "output_type": "execute_result"
    }
   ],
   "source": [
    "data = np.loadtxt(input_file, delimiter=',')\n",
    "data"
   ]
  },
  {
   "cell_type": "code",
   "execution_count": 21,
   "metadata": {},
   "outputs": [],
   "source": [
    "x, y = data[:,:-1], data[:,-1]"
   ]
  },
  {
   "cell_type": "code",
   "execution_count": 44,
   "metadata": {},
   "outputs": [
    {
     "data": {
      "text/plain": [
       "array([[ 2.180e+00,  5.700e-01],\n",
       "       [ 4.130e+00,  5.120e+00],\n",
       "       [ 9.870e+00,  1.950e+00],\n",
       "       [ 4.020e+00, -8.000e-01],\n",
       "       [ 1.180e+00,  1.030e+00],\n",
       "       [ 4.590e+00,  5.740e+00],\n",
       "       [ 8.250e+00,  1.300e+00],\n",
       "       [ 3.910e+00, -6.800e-01],\n",
       "       [ 5.500e-01,  1.260e+00],\n",
       "       [ 5.640e+00,  6.670e+00],\n",
       "       [ 9.220e+00,  1.460e+00],\n",
       "       [ 4.360e+00, -1.270e+00],\n",
       "       [ 2.190e+00,  2.660e+00],\n",
       "       [ 4.360e+00,  4.860e+00],\n",
       "       [ 7.400e+00,  4.440e+00],\n",
       "       [ 3.890e+00,  1.400e-01],\n",
       "       [ 1.670e+00,  8.100e-01],\n",
       "       [ 4.970e+00,  5.670e+00],\n",
       "       [ 8.520e+00,  2.130e+00],\n",
       "       [ 5.240e+00, -7.600e-01],\n",
       "       [ 1.060e+00,  2.070e+00],\n",
       "       [ 5.690e+00,  6.080e+00],\n",
       "       [ 9.520e+00,  2.980e+00],\n",
       "       [ 4.730e+00, -1.710e+00],\n",
       "       [ 1.640e+00,  9.600e-01],\n",
       "       [ 5.550e+00,  5.680e+00],\n",
       "       [ 8.100e+00,  4.260e+00],\n",
       "       [ 3.820e+00, -1.230e+00],\n",
       "       [ 1.090e+00,  1.400e+00],\n",
       "       [ 4.830e+00,  6.160e+00],\n",
       "       [ 7.810e+00,  1.860e+00],\n",
       "       [ 4.910e+00, -2.790e+00],\n",
       "       [ 1.740e+00,  7.700e-01],\n",
       "       [ 5.310e+00,  6.610e+00],\n",
       "       [ 7.240e+00,  1.180e+00],\n",
       "       [ 4.140e+00, -1.360e+00],\n",
       "       [ 1.120e+00,  2.730e+00],\n",
       "       [ 5.760e+00,  4.670e+00],\n",
       "       [ 9.040e+00,  1.630e+00],\n",
       "       [ 3.890e+00, -2.010e+00],\n",
       "       [ 3.100e-01,  1.500e+00],\n",
       "       [ 4.140e+00,  5.020e+00],\n",
       "       [ 8.530e+00,  2.300e+00],\n",
       "       [ 4.500e+00, -7.400e-01],\n",
       "       [ 1.690e+00,  1.720e+00],\n",
       "       [ 4.990e+00,  5.010e+00],\n",
       "       [ 7.930e+00,  3.390e+00],\n",
       "       [ 3.840e+00, -1.550e+00],\n",
       "       [ 2.370e+00,  1.500e-01],\n",
       "       [ 5.320e+00,  5.930e+00],\n",
       "       [ 7.810e+00,  2.630e+00],\n",
       "       [ 2.640e+00, -6.900e-01],\n",
       "       [ 5.900e-01,  6.700e-01],\n",
       "       [ 5.540e+00,  5.440e+00],\n",
       "       [ 9.620e+00,  4.590e+00],\n",
       "       [ 3.600e+00, -1.840e+00],\n",
       "       [ 1.640e+00,  4.800e-01],\n",
       "       [ 5.470e+00,  6.160e+00],\n",
       "       [ 9.530e+00,  2.400e+00],\n",
       "       [ 4.740e+00, -1.740e+00],\n",
       "       [ 1.960e+00,  1.990e+00],\n",
       "       [ 5.920e+00,  6.030e+00],\n",
       "       [ 7.880e+00,  1.710e+00],\n",
       "       [ 5.390e+00, -2.820e+00],\n",
       "       [ 8.200e-01,  1.960e+00],\n",
       "       [ 4.500e+00,  5.730e+00],\n",
       "       [ 7.290e+00,  1.790e+00],\n",
       "       [ 3.310e+00, -1.450e+00],\n",
       "       [ 9.400e-01,  2.090e+00],\n",
       "       [ 5.200e+00,  6.150e+00],\n",
       "       [ 7.980e+00,  1.610e+00],\n",
       "       [ 4.470e+00, -2.510e+00],\n",
       "       [ 1.310e+00,  1.010e+00],\n",
       "       [ 5.930e+00,  7.360e+00],\n",
       "       [ 8.660e+00,  2.310e+00],\n",
       "       [ 4.920e+00, -1.340e+00],\n",
       "       [-3.900e-01,  2.060e+00],\n",
       "       [ 5.180e+00,  6.240e+00],\n",
       "       [ 5.350e+00,  1.360e+00],\n",
       "       [ 5.250e+00, -9.300e-01],\n",
       "       [ 1.650e+00,  2.260e+00],\n",
       "       [ 5.740e+00,  6.220e+00],\n",
       "       [ 8.040e+00,  1.600e+00],\n",
       "       [ 4.430e+00, -2.430e+00],\n",
       "       [ 1.990e+00,  1.730e+00],\n",
       "       [ 4.530e+00,  6.670e+00],\n",
       "       [ 8.570e+00,  1.520e+00],\n",
       "       [ 4.160e+00, -2.200e-01],\n",
       "       [ 1.500e+00,  1.310e+00],\n",
       "       [ 6.130e+00,  6.320e+00],\n",
       "       [ 1.062e+01,  1.670e+00],\n",
       "       [ 4.920e+00, -1.050e+00],\n",
       "       [ 5.000e-02,  3.800e-01],\n",
       "       [ 3.840e+00,  5.800e+00],\n",
       "       [ 8.350e+00,  2.310e+00],\n",
       "       [ 3.140e+00, -1.230e+00],\n",
       "       [ 1.810e+00,  1.330e+00],\n",
       "       [ 2.560e+00,  5.910e+00],\n",
       "       [ 9.020e+00,  2.760e+00],\n",
       "       [ 4.600e+00, -2.160e+00],\n",
       "       [ 3.300e-01,  1.430e+00],\n",
       "       [ 4.460e+00,  4.990e+00],\n",
       "       [ 8.450e+00,  2.150e+00],\n",
       "       [ 4.950e+00, -2.040e+00],\n",
       "       [ 8.700e-01,  1.530e+00],\n",
       "       [ 4.810e+00,  6.540e+00],\n",
       "       [ 9.790e+00,  2.240e+00],\n",
       "       [ 3.270e+00, -1.060e+00],\n",
       "       [ 1.350e+00,  2.100e+00],\n",
       "       [ 4.640e+00,  7.800e+00],\n",
       "       [ 9.500e+00,  2.490e+00],\n",
       "       [ 4.500e+00,  3.100e-01],\n",
       "       [ 1.300e+00,  2.010e+00],\n",
       "       [ 4.020e+00,  5.970e+00],\n",
       "       [ 8.360e+00,  1.990e+00],\n",
       "       [ 4.970e+00, -2.080e+00],\n",
       "       [ 6.200e-01,  1.850e+00],\n",
       "       [ 5.380e+00,  5.190e+00],\n",
       "       [ 9.050e+00,  3.260e+00],\n",
       "       [ 4.720e+00, -1.400e-01],\n",
       "       [ 2.910e+00,  2.180e+00],\n",
       "       [ 5.150e+00,  5.810e+00],\n",
       "       [ 8.980e+00,  2.760e+00],\n",
       "       [ 5.200e+00, -1.740e+00],\n",
       "       [ 2.900e-01,  2.090e+00],\n",
       "       [ 5.730e+00,  6.340e+00],\n",
       "       [ 9.780e+00,  2.650e+00],\n",
       "       [ 4.600e+00, -1.530e+00],\n",
       "       [ 4.200e-01,  1.950e+00],\n",
       "       [ 3.740e+00,  6.490e+00],\n",
       "       [ 9.310e+00,  1.570e+00],\n",
       "       [ 5.280e+00, -3.300e-01],\n",
       "       [ 2.200e+00,  1.720e+00],\n",
       "       [ 4.550e+00,  5.140e+00],\n",
       "       [ 7.770e+00,  2.170e+00],\n",
       "       [ 4.430e+00, -2.280e+00],\n",
       "       [-4.000e-02,  4.700e-01],\n",
       "       [ 4.100e+00,  6.790e+00],\n",
       "       [ 8.610e+00,  1.640e+00],\n",
       "       [ 4.220e+00, -5.900e-01],\n",
       "       [ 1.840e+00,  9.500e-01],\n",
       "       [ 3.550e+00,  7.280e+00],\n",
       "       [ 8.940e+00,  3.600e+00],\n",
       "       [ 4.210e+00, -2.440e+00],\n",
       "       [ 1.240e+00,  3.410e+00],\n",
       "       [ 5.160e+00,  7.360e+00],\n",
       "       [ 8.930e+00,  1.250e+00],\n",
       "       [ 4.090e+00, -1.410e+00],\n",
       "       [ 1.570e+00,  9.200e-01],\n",
       "       [ 4.690e+00,  4.760e+00],\n",
       "       [ 8.850e+00,  2.180e+00],\n",
       "       [ 4.430e+00, -8.200e-01],\n",
       "       [ 5.900e-01,  2.130e+00],\n",
       "       [ 5.840e+00,  5.020e+00],\n",
       "       [ 8.900e+00,  3.610e+00],\n",
       "       [ 4.040e+00,  7.100e-01],\n",
       "       [ 1.000e-02,  1.430e+00],\n",
       "       [ 5.220e+00,  6.490e+00],\n",
       "       [ 8.370e+00,  2.410e+00],\n",
       "       [ 4.950e+00, -1.450e+00],\n",
       "       [ 1.180e+00,  5.300e-01],\n",
       "       [ 5.630e+00,  5.080e+00],\n",
       "       [ 8.570e+00,  1.160e+00],\n",
       "       [ 4.240e+00, -1.030e+00],\n",
       "       [ 9.400e-01,  1.440e+00],\n",
       "       [ 5.920e+00,  5.070e+00],\n",
       "       [ 8.850e+00,  4.450e+00],\n",
       "       [ 2.640e+00, -1.790e+00],\n",
       "       [ 1.440e+00,  1.720e+00],\n",
       "       [ 4.450e+00,  6.670e+00],\n",
       "       [ 8.160e+00,  1.760e+00],\n",
       "       [ 4.500e+00, -2.560e+00],\n",
       "       [ 1.900e+00,  2.230e+00],\n",
       "       [ 4.920e+00,  6.010e+00],\n",
       "       [ 8.670e+00,  2.180e+00],\n",
       "       [ 4.510e+00, -1.460e+00],\n",
       "       [ 1.400e-01,  6.000e-02],\n",
       "       [ 5.550e+00,  4.900e+00],\n",
       "       [ 9.270e+00,  3.240e+00],\n",
       "       [ 4.850e+00, -1.070e+00],\n",
       "       [ 1.520e+00,  2.250e+00],\n",
       "       [ 6.170e+00,  5.230e+00],\n",
       "       [ 7.550e+00,  1.920e+00],\n",
       "       [ 4.720e+00, -1.610e+00],\n",
       "       [ 2.460e+00,  2.010e+00],\n",
       "       [ 5.240e+00,  5.500e+00],\n",
       "       [ 8.970e+00,  2.550e+00],\n",
       "       [ 5.670e+00, -1.360e+00],\n",
       "       [ 2.080e+00,  3.000e+00],\n",
       "       [ 5.600e+00,  5.930e+00],\n",
       "       [ 7.480e+00,  3.280e+00],\n",
       "       [ 3.580e+00, -2.300e-01],\n",
       "       [ 1.990e+00,  1.210e+00],\n",
       "       [ 4.890e+00,  7.320e+00],\n",
       "       [ 8.480e+00,  2.360e+00],\n",
       "       [ 3.360e+00, -8.800e-01],\n",
       "       [ 1.490e+00,  1.440e+00],\n",
       "       [ 4.970e+00,  6.230e+00],\n",
       "       [ 8.640e+00,  2.560e+00],\n",
       "       [ 4.790e+00, -6.000e-01],\n",
       "       [ 1.140e+00,  1.850e+00],\n",
       "       [ 4.250e+00,  5.360e+00],\n",
       "       [ 8.010e+00,  6.800e-01],\n",
       "       [ 3.890e+00, -1.530e+00],\n",
       "       [ 1.310e+00,  1.780e+00],\n",
       "       [ 3.510e+00,  6.480e+00],\n",
       "       [ 7.570e+00,  1.730e+00],\n",
       "       [ 4.380e+00, -2.390e+00],\n",
       "       [ 1.360e+00,  1.520e+00],\n",
       "       [ 6.320e+00,  4.840e+00],\n",
       "       [ 7.750e+00,  2.630e+00],\n",
       "       [ 4.050e+00, -6.100e-01],\n",
       "       [ 8.500e-01,  7.200e-01],\n",
       "       [ 3.810e+00,  5.920e+00],\n",
       "       [ 8.460e+00,  2.430e+00],\n",
       "       [ 5.560e+00, -2.220e+00],\n",
       "       [ 1.190e+00,  3.080e+00],\n",
       "       [ 4.460e+00,  6.190e+00],\n",
       "       [ 7.060e+00,  3.230e+00],\n",
       "       [ 4.740e+00, -1.100e+00],\n",
       "       [ 2.020e+00,  1.860e+00],\n",
       "       [ 3.660e+00,  7.550e+00],\n",
       "       [ 9.310e+00,  2.030e+00],\n",
       "       [ 5.120e+00,  4.600e-01],\n",
       "       [ 1.600e-01,  9.000e-01],\n",
       "       [ 5.550e+00,  6.470e+00],\n",
       "       [ 7.800e+00,  2.970e+00],\n",
       "       [ 3.260e+00, -1.000e+00],\n",
       "       [ 6.600e-01,  5.200e-01],\n",
       "       [ 4.540e+00,  5.440e+00],\n",
       "       [ 7.580e+00,  3.100e+00],\n",
       "       [ 3.460e+00, -2.510e+00],\n",
       "       [ 1.580e+00,  1.810e+00],\n",
       "       [ 5.170e+00,  7.570e+00],\n",
       "       [ 8.270e+00,  1.360e+00],\n",
       "       [ 4.550e+00, -1.210e+00],\n",
       "       [ 3.500e-01,  1.460e+00],\n",
       "       [ 4.580e+00,  4.760e+00],\n",
       "       [ 9.610e+00,  2.320e+00],\n",
       "       [ 5.800e+00, -1.060e+00],\n",
       "       [ 1.290e+00,  1.560e+00],\n",
       "       [ 3.800e+00,  5.420e+00],\n",
       "       [ 8.780e+00,  1.290e+00],\n",
       "       [ 4.600e+00, -1.400e-01],\n",
       "       [ 1.820e+00,  4.400e-01],\n",
       "       [ 3.900e+00,  6.530e+00],\n",
       "       [ 7.960e+00,  3.130e+00],\n",
       "       [ 4.200e+00, -6.200e-01],\n",
       "       [ 9.800e-01,  1.410e+00],\n",
       "       [ 6.290e+00,  5.480e+00],\n",
       "       [ 9.310e+00,  2.930e+00],\n",
       "       [ 4.100e+00, -9.400e-01],\n",
       "       [ 8.400e-01,  6.000e-02],\n",
       "       [ 4.410e+00,  5.330e+00],\n",
       "       [ 8.790e+00,  3.510e+00],\n",
       "       [ 4.580e+00, -3.800e-01],\n",
       "       [ 9.200e-01,  1.980e+00],\n",
       "       [ 5.640e+00,  6.380e+00],\n",
       "       [ 9.240e+00,  3.500e+00],\n",
       "       [ 5.000e+00, -1.760e+00],\n",
       "       [ 1.190e+00,  1.240e+00],\n",
       "       [ 5.720e+00,  5.540e+00],\n",
       "       [ 8.730e+00,  2.470e+00],\n",
       "       [ 4.520e+00, -1.570e+00],\n",
       "       [ 1.040e+00,  2.230e+00],\n",
       "       [ 4.400e+00,  6.560e+00],\n",
       "       [ 7.160e+00,  2.260e+00],\n",
       "       [ 4.360e+00, -3.400e-01],\n",
       "       [ 9.500e-01,  2.120e+00],\n",
       "       [ 6.200e+00,  6.390e+00],\n",
       "       [ 8.120e+00,  2.280e+00],\n",
       "       [ 5.890e+00, -9.500e-01],\n",
       "       [ 1.300e+00,  3.000e-01],\n",
       "       [ 4.790e+00,  6.800e+00],\n",
       "       [ 9.220e+00,  1.750e+00],\n",
       "       [ 4.460e+00, -2.500e-01],\n",
       "       [ 1.490e+00,  1.320e+00],\n",
       "       [ 4.070e+00,  5.990e+00],\n",
       "       [ 9.790e+00,  8.000e-01],\n",
       "       [ 4.720e+00, -2.270e+00],\n",
       "       [ 1.290e+00,  8.000e-01],\n",
       "       [ 3.890e+00,  5.920e+00],\n",
       "       [ 8.110e+00,  2.700e+00],\n",
       "       [ 5.050e+00, -1.110e+00],\n",
       "       [ 2.800e-01,  4.000e-01],\n",
       "       [ 4.490e+00,  5.250e+00],\n",
       "       [ 9.360e+00,  2.330e+00],\n",
       "       [ 4.620e+00, -1.490e+00],\n",
       "       [ 1.850e+00,  2.300e-01],\n",
       "       [ 4.340e+00,  5.570e+00],\n",
       "       [ 8.030e+00,  1.730e+00],\n",
       "       [ 4.410e+00, -1.010e+00],\n",
       "       [ 1.410e+00,  4.300e-01],\n",
       "       [ 5.120e+00,  5.840e+00],\n",
       "       [ 8.120e+00,  2.130e+00],\n",
       "       [ 3.760e+00, -8.100e-01],\n",
       "       [ 3.200e-01,  1.330e+00],\n",
       "       [ 4.930e+00,  6.040e+00],\n",
       "       [ 7.790e+00,  2.020e+00],\n",
       "       [ 3.880e+00, -1.260e+00],\n",
       "       [ 7.200e-01,  2.350e+00],\n",
       "       [ 4.870e+00,  6.850e+00],\n",
       "       [ 8.640e+00,  2.820e+00],\n",
       "       [ 3.670e+00, -6.300e-01],\n",
       "       [ 6.300e-01,  1.500e+00],\n",
       "       [ 5.100e+00,  5.330e+00],\n",
       "       [ 8.010e+00,  3.830e+00],\n",
       "       [ 4.290e+00, -1.000e+00],\n",
       "       [ 3.130e+00,  1.550e+00],\n",
       "       [ 6.160e+00,  5.890e+00],\n",
       "       [ 7.600e+00,  2.880e+00],\n",
       "       [ 3.980e+00, -8.700e-01],\n",
       "       [ 1.350e+00, -1.040e+00],\n",
       "       [ 4.840e+00,  6.440e+00],\n",
       "       [ 8.310e+00,  2.570e+00],\n",
       "       [ 4.600e+00, -2.110e+00],\n",
       "       [ 1.550e+00,  2.110e+00],\n",
       "       [ 5.860e+00,  6.720e+00],\n",
       "       [ 7.700e+00,  2.500e+00],\n",
       "       [ 4.190e+00, -3.300e-01],\n",
       "       [ 5.600e-01,  2.040e+00],\n",
       "       [ 3.090e+00,  6.270e+00],\n",
       "       [ 8.320e+00,  3.710e+00],\n",
       "       [ 5.600e+00, -1.680e+00],\n",
       "       [ 2.210e+00,  1.840e+00],\n",
       "       [ 3.850e+00,  7.080e+00],\n",
       "       [ 7.190e+00,  3.130e+00],\n",
       "       [ 4.820e+00, -1.770e+00],\n",
       "       [ 1.740e+00,  2.530e+00],\n",
       "       [ 4.880e+00,  5.450e+00],\n",
       "       [ 8.030e+00,  1.300e+00],\n",
       "       [ 3.950e+00, -2.810e+00],\n",
       "       [ 1.530e+00,  2.370e+00],\n",
       "       [ 5.520e+00,  4.550e+00],\n",
       "       [ 7.970e+00,  1.660e+00],\n",
       "       [ 4.530e+00, -9.300e-01],\n",
       "       [ 2.190e+00,  9.100e-01],\n",
       "       [ 5.170e+00,  5.630e+00],\n",
       "       [ 8.080e+00,  2.720e+00],\n",
       "       [ 5.320e+00, -7.500e-01],\n",
       "       [ 1.410e+00,  2.470e+00],\n",
       "       [ 6.330e+00,  5.310e+00],\n",
       "       [ 9.160e+00,  2.250e+00],\n",
       "       [ 4.970e+00, -3.400e-01],\n",
       "       [ 2.340e+00,  1.260e+00],\n",
       "       [ 6.100e+00,  5.490e+00],\n",
       "       [ 8.620e+00,  1.050e+00],\n",
       "       [ 5.350e+00, -9.000e-02],\n",
       "       [ 1.770e+00,  2.370e+00],\n",
       "       [ 5.880e+00,  6.190e+00],\n",
       "       [ 9.510e+00,  1.510e+00],\n",
       "       [ 4.680e+00, -9.900e-01],\n",
       "       [ 1.300e+00,  1.850e+00],\n",
       "       [ 3.960e+00,  4.950e+00],\n",
       "       [ 9.420e+00,  2.130e+00],\n",
       "       [ 4.240e+00, -1.840e+00],\n",
       "       [-2.500e-01,  1.850e+00],\n",
       "       [ 5.040e+00,  6.240e+00],\n",
       "       [ 7.360e+00,  2.370e+00],\n",
       "       [ 4.360e+00, -2.540e+00],\n",
       "       [ 9.500e-01,  2.120e+00],\n",
       "       [ 4.610e+00,  7.160e+00],\n",
       "       [ 7.890e+00,  2.580e+00],\n",
       "       [ 4.710e+00, -1.980e+00],\n",
       "       [ 1.600e+00,  1.680e+00],\n",
       "       [ 4.450e+00,  4.860e+00],\n",
       "       [ 8.750e+00,  4.270e+00],\n",
       "       [ 4.460e+00, -2.100e-01],\n",
       "       [ 6.800e-01,  1.890e+00],\n",
       "       [ 4.500e+00,  5.320e+00],\n",
       "       [ 8.460e+00,  3.730e+00],\n",
       "       [ 4.680e+00, -2.030e+00],\n",
       "       [ 4.300e-01,  1.230e+00],\n",
       "       [ 7.100e+00,  6.160e+00],\n",
       "       [ 8.920e+00,  2.650e+00],\n",
       "       [ 4.310e+00, -1.960e+00],\n",
       "       [ 1.000e-02,  1.900e-01],\n",
       "       [ 5.550e+00,  3.530e+00],\n",
       "       [ 7.710e+00,  1.470e+00],\n",
       "       [ 4.630e+00, -1.400e+00],\n",
       "       [ 1.200e+00, -1.700e-01],\n",
       "       [ 5.160e+00,  6.500e+00],\n",
       "       [ 9.040e+00,  2.810e+00],\n",
       "       [ 4.170e+00, -5.000e-01],\n",
       "       [ 1.750e+00,  1.090e+00],\n",
       "       [ 4.550e+00,  7.600e+00],\n",
       "       [ 8.810e+00,  2.940e+00],\n",
       "       [ 3.080e+00, -9.200e-01],\n",
       "       [ 1.220e+00,  1.070e+00],\n",
       "       [ 5.400e+00,  6.440e+00],\n",
       "       [ 8.090e+00,  2.020e+00],\n",
       "       [ 6.200e+00, -7.200e-01],\n",
       "       [ 6.900e-01,  1.630e+00],\n",
       "       [ 4.010e+00,  6.830e+00],\n",
       "       [ 7.300e+00,  7.300e-01],\n",
       "       [ 3.290e+00, -3.000e-01],\n",
       "       [ 5.500e-01,  7.000e-01],\n",
       "       [ 4.400e+00,  6.750e+00],\n",
       "       [ 8.710e+00,  3.380e+00],\n",
       "       [ 6.120e+00, -1.800e+00]])"
      ]
     },
     "execution_count": 44,
     "metadata": {},
     "output_type": "execute_result"
    }
   ],
   "source": [
    "x"
   ]
  },
  {
   "cell_type": "code",
   "execution_count": 23,
   "metadata": {},
   "outputs": [
    {
     "data": {
      "text/plain": [
       "array([0., 1., 2., 3., 0., 1., 2., 3., 0., 1., 2., 3., 0., 1., 2., 3., 0.,\n",
       "       1., 2., 3., 0., 1., 2., 3., 0., 1., 2., 3., 0., 1., 2., 3., 0., 1.,\n",
       "       2., 3., 0., 1., 2., 3., 0., 1., 2., 3., 0., 1., 2., 3., 0., 1., 2.,\n",
       "       3., 0., 1., 2., 3., 0., 1., 2., 3., 0., 1., 2., 3., 0., 1., 2., 3.,\n",
       "       0., 1., 2., 3., 0., 1., 2., 3., 0., 1., 2., 3., 0., 1., 2., 3., 0.,\n",
       "       1., 2., 3., 0., 1., 2., 3., 0., 1., 2., 3., 0., 1., 2., 3., 0., 1.,\n",
       "       2., 3., 0., 1., 2., 3., 0., 1., 2., 3., 0., 1., 2., 3., 0., 1., 2.,\n",
       "       3., 0., 1., 2., 3., 0., 1., 2., 3., 0., 1., 2., 3., 0., 1., 2., 3.,\n",
       "       0., 1., 2., 3., 0., 1., 2., 3., 0., 1., 2., 3., 0., 1., 2., 3., 0.,\n",
       "       1., 2., 3., 0., 1., 2., 3., 0., 1., 2., 3., 0., 1., 2., 3., 0., 1.,\n",
       "       2., 3., 0., 1., 2., 3., 0., 1., 2., 3., 0., 1., 2., 3., 0., 1., 2.,\n",
       "       3., 0., 1., 2., 3., 0., 1., 2., 3., 0., 1., 2., 3., 0., 1., 2., 3.,\n",
       "       0., 1., 2., 3., 0., 1., 2., 3., 0., 1., 2., 3., 0., 1., 2., 3., 0.,\n",
       "       1., 2., 3., 0., 1., 2., 3., 0., 1., 2., 3., 0., 1., 2., 3., 0., 1.,\n",
       "       2., 3., 0., 1., 2., 3., 0., 1., 2., 3., 0., 1., 2., 3., 0., 1., 2.,\n",
       "       3., 0., 1., 2., 3., 0., 1., 2., 3., 0., 1., 2., 3., 0., 1., 2., 3.,\n",
       "       0., 1., 2., 3., 0., 1., 2., 3., 0., 1., 2., 3., 0., 1., 2., 3., 0.,\n",
       "       1., 2., 3., 0., 1., 2., 3., 0., 1., 2., 3., 0., 1., 2., 3., 0., 1.,\n",
       "       2., 3., 0., 1., 2., 3., 0., 1., 2., 3., 0., 1., 2., 3., 0., 1., 2.,\n",
       "       3., 0., 1., 2., 3., 0., 1., 2., 3., 0., 1., 2., 3., 0., 1., 2., 3.,\n",
       "       0., 1., 2., 3., 0., 1., 2., 3., 0., 1., 2., 3., 0., 1., 2., 3., 0.,\n",
       "       1., 2., 3., 0., 1., 2., 3., 0., 1., 2., 3., 0., 1., 2., 3., 0., 1.,\n",
       "       2., 3., 0., 1., 2., 3., 0., 1., 2., 3., 0., 1., 2., 3., 0., 1., 2.,\n",
       "       3., 0., 1., 2., 3., 0., 1., 2., 3.])"
      ]
     },
     "execution_count": 23,
     "metadata": {},
     "output_type": "execute_result"
    }
   ],
   "source": [
    "y"
   ]
  },
  {
   "cell_type": "code",
   "execution_count": null,
   "metadata": {},
   "outputs": [],
   "source": [
    "# 単純ベイズ分類器 インスタンス作成\n",
    "# ガウシアン単純ベイズ分類器 GaussianNBを用いる。 ※各クラスの値はガウス分布に従うと仮定"
   ]
  },
  {
   "cell_type": "code",
   "execution_count": 24,
   "metadata": {},
   "outputs": [],
   "source": [
    "classifier = GaussianNB()"
   ]
  },
  {
   "cell_type": "code",
   "execution_count": null,
   "metadata": {},
   "outputs": [],
   "source": [
    "# 教師データを用いて訓練"
   ]
  },
  {
   "cell_type": "code",
   "execution_count": 25,
   "metadata": {},
   "outputs": [
    {
     "data": {
      "text/plain": [
       "GaussianNB()"
      ]
     },
     "execution_count": 25,
     "metadata": {},
     "output_type": "execute_result"
    }
   ],
   "source": [
    "classifier.fit(x,y)"
   ]
  },
  {
   "cell_type": "code",
   "execution_count": null,
   "metadata": {},
   "outputs": [],
   "source": [
    "# 訓練データに対して分類器を実行して出力を推定"
   ]
  },
  {
   "cell_type": "code",
   "execution_count": 26,
   "metadata": {},
   "outputs": [],
   "source": [
    "y_pred = classifier.predict(x)"
   ]
  },
  {
   "cell_type": "code",
   "execution_count": null,
   "metadata": {},
   "outputs": [],
   "source": [
    "# 推定値と真のラベルを比較 分類器の正解率(一致した割合)を計算し、可視化"
   ]
  },
  {
   "cell_type": "code",
   "execution_count": 40,
   "metadata": {},
   "outputs": [
    {
     "name": "stdout",
     "output_type": "stream",
     "text": [
      "Accuracy of Native Bays classifer = 99.75 %\n"
     ]
    }
   ],
   "source": [
    "accuracy = 100.0 * (y == y_pred).sum() / x.shape[0]\n",
    "\n",
    "print(\"Accuracy of Native Bays classifer =\", round(accuracy, 2), \"%\")"
   ]
  },
  {
   "cell_type": "code",
   "execution_count": 56,
   "metadata": {},
   "outputs": [
    {
     "data": {
      "text/plain": [
       "0.9975"
      ]
     },
     "execution_count": 56,
     "metadata": {},
     "output_type": "execute_result"
    }
   ],
   "source": [
    "(y == y_pred).sum() / x.shape[0]\n",
    "# / x.shape[0]の実験も可"
   ]
  },
  {
   "cell_type": "code",
   "execution_count": 42,
   "metadata": {},
   "outputs": [
    {
     "data": {
      "image/png": "[encoded data removed]",
      "text/plain": [
       "<Figure size 432x288 with 1 Axes>"
      ]
     },
     "metadata": {
      "needs_background": "light"
     },
     "output_type": "display_data"
    }
   ],
   "source": [
    "visualize_classifier(classifier, x, y)"
   ]
  },
  {
   "cell_type": "code",
   "execution_count": null,
   "metadata": {},
   "outputs": [],
   "source": [
    "# 分類器が学習した境界線が表示されている 入力点データが4つのクラスのどこに当たるかが分かる\n",
    "# この方法で求めた分類器の精度は 教師データと検証データが同じなため、フェアな評価でない\n",
    "#  検証データが異なれば異なる値が出る　そこで「交差検証」を行う"
   ]
  },
  {
   "cell_type": "code",
   "execution_count": null,
   "metadata": {},
   "outputs": [],
   "source": [
    "# model_selection() という関数を用いると、データを訓練用と検証用に分ける 今回は訓練80％ 検証用20％ \n",
    "# それぞれの訓練用データを用いて単純ベイズ分類器を訓練し、検証用データを用いて訓練する"
   ]
  },
  {
   "cell_type": "code",
   "execution_count": 57,
   "metadata": {},
   "outputs": [],
   "source": [
    "from sklearn import model_selection"
   ]
  },
  {
   "cell_type": "code",
   "execution_count": 58,
   "metadata": {},
   "outputs": [],
   "source": [
    "x_train, x_test, y_train, y_test = model_selection.train_test_split(x, y, test_size=0.2, random_state=3)"
   ]
  },
  {
   "cell_type": "code",
   "execution_count": 64,
   "metadata": {},
   "outputs": [
    {
     "data": {
      "text/plain": [
       "array([3., 0., 0., 3., 3., 2., 1., 1., 1., 1., 3., 2., 2., 0., 2., 0., 0.,\n",
       "       3., 3., 1., 3., 2., 3., 2., 3., 3., 3., 1., 2., 1., 2., 3., 1., 1.,\n",
       "       3., 1., 0., 3., 1., 2., 0., 1., 2., 0., 3., 2., 3., 3., 1., 3., 1.,\n",
       "       2., 0., 1., 1., 2., 0., 2., 1., 2., 0., 1., 0., 3., 1., 3., 1., 2.,\n",
       "       3., 3., 2., 3., 0., 1., 1., 2., 1., 0., 2., 3., 1., 2., 2., 0., 0.,\n",
       "       2., 3., 0., 3., 0., 3., 1., 0., 1., 1., 2., 0., 1., 0., 1., 1., 2.,\n",
       "       3., 2., 0., 0., 1., 1., 0., 1., 1., 1., 3., 0., 2., 2., 1., 2., 1.,\n",
       "       2., 3., 2., 2., 0., 2., 3., 0., 3., 1., 1., 2., 0., 3., 3., 3., 1.,\n",
       "       3., 3., 2., 0., 3., 2., 1., 2., 2., 0., 3., 2., 0., 0., 1., 1., 1.,\n",
       "       3., 2., 0., 0., 1., 2., 3., 1., 1., 3., 1., 3., 2., 3., 1., 0., 1.,\n",
       "       0., 0., 1., 3., 2., 3., 2., 1., 1., 1., 2., 3., 2., 3., 2., 0., 3.,\n",
       "       1., 2., 3., 2., 1., 1., 1., 0., 2., 1., 0., 3., 3., 0., 0., 0., 0.,\n",
       "       3., 0., 0., 0., 3., 2., 2., 3., 3., 3., 0., 1., 0., 0., 1., 3., 2.,\n",
       "       3., 2., 0., 3., 0., 0., 0., 0., 0., 3., 3., 0., 3., 1., 2., 3., 1.,\n",
       "       3., 0., 0., 1., 2., 3., 2., 3., 2., 0., 0., 0., 0., 2., 2., 0., 1.,\n",
       "       0., 1., 3., 3., 3., 0., 0., 0., 3., 3., 3., 1., 1., 1., 1., 0., 2.,\n",
       "       1., 3., 0., 1., 2., 0., 0., 2., 0., 2., 1., 2., 0., 1., 0., 3., 1.,\n",
       "       3., 3., 2., 2., 2., 1., 2., 0., 1., 2., 1., 0., 2., 2., 2., 1., 2.,\n",
       "       1., 0., 3., 2., 1., 3., 2., 3., 1., 0., 3., 1., 0., 2.])"
      ]
     },
     "execution_count": 64,
     "metadata": {},
     "output_type": "execute_result"
    }
   ],
   "source": [
    "y_train\n",
    "# x_train 等　他の値も検証可"
   ]
  },
  {
   "cell_type": "code",
   "execution_count": 65,
   "metadata": {},
   "outputs": [],
   "source": [
    "classifier_new = GaussianNB()\n",
    "classifier_new.fit(x_train, y_train)\n",
    "y_test_pred = classifier_new.predict(x_test)"
   ]
  },
  {
   "cell_type": "code",
   "execution_count": null,
   "metadata": {},
   "outputs": [],
   "source": [
    "# 分類器の精度を検証し可視化"
   ]
  },
  {
   "cell_type": "code",
   "execution_count": 66,
   "metadata": {},
   "outputs": [
    {
     "name": "stdout",
     "output_type": "stream",
     "text": [
      "Accracy of the new classifier = 100.0 %\n"
     ]
    },
    {
     "data": {
      "image/png": "[encoded data removed]",
      "text/plain": [
       "<Figure size 432x288 with 1 Axes>"
      ]
     },
     "metadata": {
      "needs_background": "light"
     },
     "output_type": "display_data"
    }
   ],
   "source": [
    "accuracy = 100.0 * (y_test == y_test_pred).sum() / x_test.shape[0]\n",
    "print(\"Accracy of the new classifier =\", round(accuracy, 2), \"%\")\n",
    "\n",
    "visualize_classifier(classifier_new, x_test, y_test)"
   ]
  },
  {
   "cell_type": "code",
   "execution_count": null,
   "metadata": {},
   "outputs": [],
   "source": [
    "# closs_validationパッケージの関数closs_val_score()を用いて、「3分割交差検証」を行い\n",
    "# 正解率()、適合率()、再現率()"
   ]
  },
  {
   "cell_type": "code",
   "execution_count": 70,
   "metadata": {},
   "outputs": [
    {
     "data": {
      "text/plain": [
       "array([0.99253731, 1.        , 1.        ])"
      ]
     },
     "execution_count": 70,
     "metadata": {},
     "output_type": "execute_result"
    }
   ],
   "source": [
    "num_folds = 3\n",
    "accuracy_values = model_selection.cross_val_score(classifier, x, y, scoring='accuracy', cv=num_folds)\n",
    "accuracy_values"
   ]
  },
  {
   "cell_type": "code",
   "execution_count": 75,
   "metadata": {},
   "outputs": [
    {
     "name": "stdout",
     "output_type": "stream",
     "text": [
      "Accuracy: 99.75%\n"
     ]
    }
   ],
   "source": [
    "print(\"Accuracy: \" + str(round(100 * accuracy_values.mean(), 2)) + \"%\")"
   ]
  },
  {
   "cell_type": "code",
   "execution_count": 77,
   "metadata": {},
   "outputs": [
    {
     "data": {
      "text/plain": [
       "array([0.99275053, 1.        , 1.        ])"
      ]
     },
     "execution_count": 77,
     "metadata": {},
     "output_type": "execute_result"
    }
   ],
   "source": [
    "precision_values = model_selection.cross_val_score(classifier, x, y, scoring='precision_weighted', cv=num_folds)\n",
    "precision_values"
   ]
  },
  {
   "cell_type": "code",
   "execution_count": 78,
   "metadata": {},
   "outputs": [
    {
     "name": "stdout",
     "output_type": "stream",
     "text": [
      "Precision: 99.76%\n"
     ]
    }
   ],
   "source": [
    "print(\"Precision: \" + str(round(100 * precision_values.mean(), 2)) + \"%\")"
   ]
  },
  {
   "cell_type": "code",
   "execution_count": 79,
   "metadata": {},
   "outputs": [
    {
     "data": {
      "text/plain": [
       "array([0.99253731, 1.        , 1.        ])"
      ]
     },
     "execution_count": 79,
     "metadata": {},
     "output_type": "execute_result"
    }
   ],
   "source": [
    "recall_values = model_selection.cross_val_score(classifier, x, y, scoring='recall_weighted', cv=num_folds)\n",
    "recall_values"
   ]
  },
  {
   "cell_type": "code",
   "execution_count": 80,
   "metadata": {},
   "outputs": [
    {
     "name": "stdout",
     "output_type": "stream",
     "text": [
      "Recall: 99.75%\n"
     ]
    }
   ],
   "source": [
    "print(\"Recall: \" + str(round(100 * recall_values.mean(), 2)) + \"%\")"
   ]
  },
  {
   "cell_type": "code",
   "execution_count": 81,
   "metadata": {},
   "outputs": [
    {
     "data": {
      "text/plain": [
       "array([0.99253399, 1.        , 1.        ])"
      ]
     },
     "execution_count": 81,
     "metadata": {},
     "output_type": "execute_result"
    }
   ],
   "source": [
    "f1_values = model_selection.cross_val_score(classifier, x, y, scoring='f1_weighted', cv=num_folds)\n",
    "f1_values"
   ]
  },
  {
   "cell_type": "code",
   "execution_count": 82,
   "metadata": {},
   "outputs": [
    {
     "name": "stdout",
     "output_type": "stream",
     "text": [
      "Recall: 99.75%\n"
     ]
    }
   ],
   "source": [
    "print(\"Recall: \" + str(round(100 * f1_values.mean(), 2)) + \"%\")"
   ]
  },
  {
   "cell_type": "code",
   "execution_count": null,
   "metadata": {},
   "outputs": [],
   "source": []
  }
 ],
 "metadata": {
  "kernelspec": {
   "display_name": "Python 3",
   "language": "python",
   "name": "python3"
  },
  "language_info": {
   "codemirror_mode": {
    "name": "ipython",
    "version": 3
   },
   "file_extension": ".py",
   "mimetype": "text/x-python",
   "name": "python",
   "nbconvert_exporter": "python",
   "pygments_lexer": "ipython3",
   "version": "3.8.3"
  }
 },
 "nbformat": 4,
 "nbformat_minor": 4
}
