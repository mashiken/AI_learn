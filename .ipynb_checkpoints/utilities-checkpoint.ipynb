{
 "cells": [
  {
   "cell_type": "code",
   "execution_count": null,
   "metadata": {},
   "outputs": [],
   "source": []
  },
  {
   "cell_type": "code",
   "execution_count": null,
   "metadata": {},
   "outputs": [],
   "source": [
    "# 分類器の訓練結果をクラスの境界を表示して可視化\n",
    "# 可視化用関数の定義"
   ]
  },
  {
   "cell_type": "code",
   "execution_count": 7,
   "metadata": {},
   "outputs": [],
   "source": [
    "import numpy as np\n",
    "import matplotlib.pyplot as plt\n",
    "%matplotlib inline"
   ]
  },
  {
   "cell_type": "code",
   "execution_count": null,
   "metadata": {},
   "outputs": [],
   "source": [
    "# matplotlibのグラフをインライン表示するには%matplotlib inline と書く"
   ]
  },
  {
   "cell_type": "code",
   "execution_count": 8,
   "metadata": {},
   "outputs": [],
   "source": [
    "def visualize_classifier(classifier,x,y,title=''):\n",
    "    min_x, max_x = x[:,0].min() - 1.0, x[:,0].max() + 1.0\n",
    "    min_y, max_y = x[:,1].min() - 1.0, x[:,1].max() + 1.0\n",
    "    \n",
    "    # メッシュ状のグリッド用にＸ軸方向とＹ軸方向の値の最小値、最大値を求める\n",
    "    # グリッド上でのステップサイズを定義し、最小・最大値を求めグリッドを定義する\n",
    "    mesh_step_size = 0.1\n",
    "    x_vals, y_vals = np.meshgrid(np.arange(min_x, max_x, mesh_step_size),\n",
    "                               np.arange(min_y, max_y, mesh_step_size))\n",
    "    \n",
    "    # グリッド上の全ての点について分類器を実行する\n",
    "    output = classifier.predict(np.c_[x_vals.ravel(), y_vals.ravel()])\n",
    "    output = output.reshape(x_vals.shape)\n",
    "    \n",
    "    # 図の生成、色表を選択、すべての点を描画\n",
    "    plt.figure()\n",
    "    plt.title(title)\n",
    "    plt.pcolormesh(x_vals,y_vals,output, cmap=plt.cm.gray)\n",
    "    plt.scatter(x[:,0],x[:,1], c=y, s=75, edgecolors='black', linewidth=1,cmap=plt.cm.Paired)\n",
    "    \n",
    "    # 最小値・最大値を使って描画の外枠を表示、目盛の追加、図を表示\n",
    "    plt.xlim(x_vals.min(), x_vals.max())\n",
    "    plt.ylim(y_vals.min(), y_vals.max())\n",
    "    \n",
    "    plt.xticks((np.arange(int(min_x), int(max_x), 1.0)))\n",
    "    plt.yticks((np.arange(int(min_y), int(max_y), 1.0)))\n",
    "    \n",
    "    plt.show()\n",
    "    "
   ]
  },
  {
   "cell_type": "code",
   "execution_count": null,
   "metadata": {},
   "outputs": [],
   "source": []
  },
  {
   "cell_type": "code",
   "execution_count": null,
   "metadata": {},
   "outputs": [],
   "source": []
  },
  {
   "cell_type": "code",
   "execution_count": null,
   "metadata": {},
   "outputs": [],
   "source": []
  },
  {
   "cell_type": "code",
   "execution_count": null,
   "metadata": {},
   "outputs": [],
   "source": []
  },
  {
   "cell_type": "code",
   "execution_count": null,
   "metadata": {},
   "outputs": [],
   "source": []
  }
 ],
 "metadata": {
  "kernelspec": {
   "display_name": "Python 3",
   "language": "python",
   "name": "python3"
  },
  "language_info": {
   "codemirror_mode": {
    "name": "ipython",
    "version": 3
   },
   "file_extension": ".py",
   "mimetype": "text/x-python",
   "name": "python",
   "nbconvert_exporter": "python",
   "pygments_lexer": "ipython3",
   "version": "3.8.3"
  }
 },
 "nbformat": 4,
 "nbformat_minor": 4
}
